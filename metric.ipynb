{
 "cells": [
  {
   "cell_type": "code",
   "execution_count": 1,
   "metadata": {},
   "outputs": [
    {
     "name": "stderr",
     "output_type": "stream",
     "text": [
      "Some weights of the model checkpoint at microsoft/BiomedNLP-PubMedBERT-base-uncased-abstract-fulltext were not used when initializing BertModel: ['cls.predictions.transform.LayerNorm.weight', 'cls.predictions.decoder.weight', 'cls.seq_relationship.bias', 'cls.predictions.transform.dense.weight', 'cls.predictions.decoder.bias', 'cls.predictions.transform.dense.bias', 'cls.seq_relationship.weight', 'cls.predictions.bias', 'cls.predictions.transform.LayerNorm.bias']\n",
      "- This IS expected if you are initializing BertModel from the checkpoint of a model trained on another task or with another architecture (e.g. initializing a BertForSequenceClassification model from a BertForPreTraining model).\n",
      "- This IS NOT expected if you are initializing BertModel from the checkpoint of a model that you expect to be exactly identical (initializing a BertForSequenceClassification model from a BertForSequenceClassification model).\n"
     ]
    }
   ],
   "source": [
    "\n",
    "from transformers import AutoTokenizer, AutoModel\n",
    "import matplotlib.pyplot as plt\n",
    "import numpy as np\n",
    "tokenizer = AutoTokenizer.from_pretrained(\"microsoft/BiomedNLP-PubMedBERT-base-uncased-abstract-fulltext\")\n",
    "model = AutoModel.from_pretrained(\"microsoft/BiomedNLP-PubMedBERT-base-uncased-abstract-fulltext\")\n",
    "\n"
   ]
  },
  {
   "cell_type": "code",
   "execution_count": 2,
   "metadata": {},
   "outputs": [
    {
     "name": "stderr",
     "output_type": "stream",
     "text": [
      "[nltk_data] Downloading package punkt to /home/gerard/nltk_data...\n",
      "[nltk_data]   Package punkt is already up-to-date!\n",
      "[nltk_data] Downloading package stopwords to /home/gerard/nltk_data...\n",
      "[nltk_data]   Package stopwords is already up-to-date!\n",
      "Some weights of the model checkpoint at microsoft/BiomedNLP-PubMedBERT-base-uncased-abstract-fulltext were not used when initializing BertForMaskedLM: ['cls.seq_relationship.bias', 'cls.seq_relationship.weight']\n",
      "- This IS expected if you are initializing BertForMaskedLM from the checkpoint of a model trained on another task or with another architecture (e.g. initializing a BertForSequenceClassification model from a BertForPreTraining model).\n",
      "- This IS NOT expected if you are initializing BertForMaskedLM from the checkpoint of a model that you expect to be exactly identical (initializing a BertForSequenceClassification model from a BertForSequenceClassification model).\n"
     ]
    },
    {
     "name": "stdout",
     "output_type": "stream",
     "text": [
      "count of labels in datasets/labels_final.txt: 30522\n"
     ]
    },
    {
     "name": "stderr",
     "output_type": "stream",
     "text": [
      "100%|██████████| 51/51 [08:53<00:00, 10.46s/it]\n"
     ]
    }
   ],
   "source": [
    "from utilities.utils import read_gt_folder,mean_embed_sublist\n",
    "ground_truth_gt = read_gt_folder(\"datasets/extracted section gpt/final/all/\")\n",
    "ground_truth_gt = {key:value for key,value in ground_truth_gt.items() if len(value)>0}\n",
    "ground_truth_gt = {key:[v for v in value if len(v)>0] for key,value in ground_truth_gt.items() }\n",
    "emb_dict_gt = {key:mean_embed_sublist(model,tokenizer,value) for key,value in ground_truth_gt.items()}\n",
    "#----\n",
    "from algorithms.core_algorithm import *\n",
    "trivial = Trivial('datasets/STL_original_article.xls', 'datasets/raw articles/all/', encode=True)\n",
    "trivial.load_data()\n",
    "trivial_result = trivial.run_algorithm()\n",
    "trivial_result = {key:list(set([v for v in value if len(v)>0])) for key,value in trivial_result.items() }\n",
    "emb_dict_trivial = {key:mean_embed_sublist(model,tokenizer,value) for key,value in trivial_result.items() if len(value)>0}\n",
    "#----\n",
    "from algorithms.core_algorithm import *\n",
    "fuzzy = Fuzzy('datasets/STL_original_article.xls', 'datasets/raw articles/all/', encode=True)\n",
    "fuzzy.load_data()\n",
    "fuzzy_result = fuzzy.run_algorithm()\n",
    "fuzzy_result = {key:list(set([v for v in value if len(v)>0])) for key,value in fuzzy_result.items() }\n",
    "emb_dict_fuzzy = {key:mean_embed_sublist(model,tokenizer,value) for key,value in fuzzy_result.items() if len(value)>0}\n",
    "\n",
    "#----------\n",
    "from algorithms.core_algorithm import uNER_fast\n",
    "\n",
    "uNER = uNER_fast('datasets/labels_final.txt','datasets/raw articles/all/',True,model,tokenizer)\n",
    "uNER.load_data()\n",
    "uNER_results = uNER.run_algorithm()\n",
    "from utilities.utils import read_gt_folder,mean_embed_sublist\n",
    "uNER_results = {key:[v for value in values for v in value] for key,values in uNER_results.items()}\n",
    "emb_dict_uNER = {key:mean_embed_sublist(model,tokenizer,value) for key,value in uNER_results.items() if len(value)>0}\n",
    "\n",
    "#----------\n",
    "# random\n",
    "#----------\n",
    "# random\n",
    "import random\n",
    "from algorithms.core_algorithm import *\n",
    "trivial = Trivial('datasets/STL_original_article.xls', 'datasets/raw articles/all/', encode=True)\n",
    "trivial.load_data()\n",
    "random_result = {key:random.sample(value.split(),5)for key,value in trivial.corpus.items() if len(value)>0}\n",
    "emb_dict_random = {key:mean_embed_sublist(model,tokenizer,value) for key,value in random_result.items() if len(value)>0}\n",
    "\n",
    "\n",
    "\n",
    "\n",
    "result1 = np.array([metric(tensor1,tensor2) for tensor1,tensor2 in zip(emb_dict_gt.values(),emb_dict_trivial.values())])\n",
    "result2 = np.array([metric(tensor1,tensor2) for tensor1,tensor2 in zip(emb_dict_gt.values(),emb_dict_fuzzy.values())])\n",
    "result3 = np.array([metric(tensor1,tensor2) for tensor1,tensor2 in zip(emb_dict_gt.values(),emb_dict_uNER.values())])\n",
    "\n",
    "result4 = np.array([metric(tensor1,tensor2) for tensor1,tensor2 in zip(emb_dict_gt.values(),emb_dict_random.values())])\n",
    "\n",
    "from plotting.plots import plot_histograms_metric\n",
    "plot_histograms_metric(result1,result2,result3,result4)\n"
   ]
  },
  {
   "cell_type": "code",
   "execution_count": 22,
   "metadata": {},
   "outputs": [],
   "source": [
    "\n"
   ]
  },
  {
   "cell_type": "code",
   "execution_count": 18,
   "metadata": {},
   "outputs": [
    {
     "data": {
      "text/plain": [
       "['b', 'd']"
      ]
     },
     "execution_count": 18,
     "metadata": {},
     "output_type": "execute_result"
    }
   ],
   "source": [
    "import random\n"
   ]
  },
  {
   "cell_type": "code",
   "execution_count": 3,
   "metadata": {},
   "outputs": [],
   "source": [
    "\n",
    "import torch\n",
    "import torch.nn.functional as F\n",
    "\n",
    "# Assuming `tensor1` and `tensor2` are the given tensors of shape [n, 768] and [m, 768]\n",
    "# Placeholder tensors for the sake of demonstration\n",
    "def metric(tensor1,tensor2):\n",
    "    # Normalize the tensors along the last dimension\n",
    "    tensor1_norm = F.normalize(tensor1, p=2, dim=1)\n",
    "    tensor2_norm = F.normalize(tensor2, p=2, dim=1)\n",
    "\n",
    "    # Compute pairwise cosine similarity\n",
    "    similarity_matrix = torch.matmul(tensor1_norm, tensor2_norm.transpose(0, 1))\n",
    "\n",
    "    # Select the highest similarity for each row\n",
    "    highest_similarity, selected_indices = torch.max(similarity_matrix, dim=1)\n",
    "\n",
    "    # Retrieve the selected tensors from tensor2\n",
    "    selected_tensors = tensor2[selected_indices]\n",
    "    return highest_similarity.mean()\n",
    "\n",
    "\n",
    "\n",
    "\n",
    "\n"
   ]
  },
  {
   "cell_type": "code",
   "execution_count": 4,
   "metadata": {},
   "outputs": [
    {
     "data": {
      "image/png": "[encoded data removed]",
      "text/plain": [
       "<Figure size 640x480 with 1 Axes>"
      ]
     },
     "metadata": {},
     "output_type": "display_data"
    }
   ],
   "source": [
    "result1 = np.array([metric(tensor1,tensor2) for tensor1,tensor2 in zip(emb_dict_gt.values(),emb_dict_trivial.values())])\n",
    "\n",
    "import matplotlib.pyplot as plt\n",
    "plt.hist(result1)\n",
    "plt.show()"
   ]
  },
  {
   "cell_type": "code",
   "execution_count": 5,
   "metadata": {},
   "outputs": [
    {
     "data": {
      "image/png": "[encoded data removed]",
      "text/plain": [
       "<Figure size 640x480 with 1 Axes>"
      ]
     },
     "metadata": {},
     "output_type": "display_data"
    }
   ],
   "source": [
    "result2 = np.array([metric(tensor1,tensor2) for tensor1,tensor2 in zip(emb_dict_gt.values(),emb_dict_fuzzy.values())])\n",
    "\n",
    "import matplotlib.pyplot as plt\n",
    "plt.hist(result2)\n",
    "plt.show()"
   ]
  },
  {
   "cell_type": "code",
   "execution_count": 11,
   "metadata": {},
   "outputs": [
    {
     "data": {
      "image/png": "[encoded data removed]",
      "text/plain": [
       "<Figure size 640x480 with 1 Axes>"
      ]
     },
     "metadata": {},
     "output_type": "display_data"
    }
   ],
   "source": [
    "result3 = np.array([metric(tensor1,tensor2) for tensor1,tensor2 in zip(emb_dict_gt.values(),emb_dict_uNER.values())])\n",
    "\n",
    "import matplotlib.pyplot as plt\n",
    "plt.hist(result3)\n",
    "plt.show()"
   ]
  },
  {
   "cell_type": "code",
   "execution_count": 24,
   "metadata": {},
   "outputs": [
    {
     "ename": "TypeError",
     "evalue": "plot_histograms_metric() takes 3 positional arguments but 4 were given",
     "output_type": "error",
     "traceback": [
      "\u001b[0;31m---------------------------------------------------------------------------\u001b[0m",
      "\u001b[0;31mTypeError\u001b[0m                                 Traceback (most recent call last)",
      "Cell \u001b[0;32mIn[24], line 8\u001b[0m\n\u001b[1;32m      5\u001b[0m result4 \u001b[39m=\u001b[39m np\u001b[39m.\u001b[39marray([metric(tensor1,tensor2) \u001b[39mfor\u001b[39;00m tensor1,tensor2 \u001b[39min\u001b[39;00m \u001b[39mzip\u001b[39m(emb_dict_gt\u001b[39m.\u001b[39mvalues(),emb_dict_random\u001b[39m.\u001b[39mvalues())])\n\u001b[1;32m      7\u001b[0m \u001b[39mfrom\u001b[39;00m \u001b[39mplotting\u001b[39;00m\u001b[39m.\u001b[39;00m\u001b[39mplots\u001b[39;00m \u001b[39mimport\u001b[39;00m plot_histograms_metric\n\u001b[0;32m----> 8\u001b[0m plot_histograms_metric(result1,result2,result3,result4)\n",
      "\u001b[0;31mTypeError\u001b[0m: plot_histograms_metric() takes 3 positional arguments but 4 were given"
     ]
    }
   ],
   "source": [
    "result1 = np.array([metric(tensor1,tensor2) for tensor1,tensor2 in zip(emb_dict_gt.values(),emb_dict_trivial.values())])\n",
    "result2 = np.array([metric(tensor1,tensor2) for tensor1,tensor2 in zip(emb_dict_gt.values(),emb_dict_fuzzy.values())])\n",
    "result3 = np.array([metric(tensor1,tensor2) for tensor1,tensor2 in zip(emb_dict_gt.values(),emb_dict_uNER.values())])\n",
    "\n",
    "result4 = np.array([metric(tensor1,tensor2) for tensor1,tensor2 in zip(emb_dict_gt.values(),emb_dict_random.values())])\n",
    "\n",
    "from plotting.plots import plot_histograms_metric\n",
    "plot_histograms_metric(result1,result2,result3,result4)"
   ]
  }
 ],
 "metadata": {
  "kernelspec": {
   "display_name": "Python 3",
   "language": "python",
   "name": "python3"
  },
  "language_info": {
   "codemirror_mode": {
    "name": "ipython",
    "version": 3
   },
   "file_extension": ".py",
   "mimetype": "text/x-python",
   "name": "python",
   "nbconvert_exporter": "python",
   "pygments_lexer": "ipython3",
   "version": "3.10.12"
  },
  "orig_nbformat": 4
 },
 "nbformat": 4,
 "nbformat_minor": 2
}
